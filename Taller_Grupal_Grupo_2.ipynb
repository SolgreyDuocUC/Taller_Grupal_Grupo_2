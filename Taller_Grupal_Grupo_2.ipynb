{
  "nbformat": 4,
  "nbformat_minor": 0,
  "metadata": {
    "colab": {
      "provenance": [],
      "collapsed_sections": [
        "UuQr4u5RQT4l",
        "ke3TY8E1QkCg",
        "KVCqofHKRVxp"
      ]
    },
    "kernelspec": {
      "name": "python3",
      "display_name": "Python 3"
    },
    "language_info": {
      "name": "python"
    }
  },
  "cells": [
    {
      "cell_type": "markdown",
      "source": [
        "# **Matricula de educación superior 2021**"
      ],
      "metadata": {
        "id": "dwyz6jkxT-15"
      }
    },
    {
      "cell_type": "markdown",
      "source": [
        "## Objetivos:"
      ],
      "metadata": {
        "id": "bDWXW90cUHNn"
      }
    },
    {
      "cell_type": "markdown",
      "source": [
        "## TALLER"
      ],
      "metadata": {
        "id": "YjIwdec0U9p8"
      }
    },
    {
      "cell_type": "markdown",
      "source": [
        "La siguiente base de datos contiene información de estudiantes pertenecientes a un Instituto Profesional. Con el fin de tomar decisiones institucionales, como reforzar asignaturas o rediseñar horarios se registraron datos sobre su rendimiento académico, género, jornada y número de asignaturas reprobadas.\n",
        "\n",
        "Para responder las siguientes preguntas, descarga la base de datos **<a href=\"https://drive.google.com/uc?export=download&id=1Z2mrhxQnGgEfMqKrPyXBBPLnFPg52Woz\n",
        "\">aquí</a>**."
      ],
      "metadata": {
        "id": "iixvThDnKc7q"
      }
    },
    {
      "cell_type": "markdown",
      "source": [
        "1. Defina la población y muestra."
      ],
      "metadata": {
        "id": "PJHxWHRatuCN"
      }
    },
    {
      "cell_type": "code",
      "source": [
        "import pandas as pd\n",
        "df_matricula = pd.read_excel(\"/content/02_MATRICULAS_ED_SUPERIOR_TARAPACA_2021.xlsx\")\n",
        "muestra_matricula = df_matricula.shape[0] #La definimos para usarla en cálculos después\n",
        "print(f'La muestra es de:', muestra_matricula)"
      ],
      "metadata": {
        "colab": {
          "base_uri": "https://localhost:8080/"
        },
        "id": "qb1voI4OCKRf",
        "outputId": "713bb8de-34d4-4f25-f713-75502277ba57"
      },
      "execution_count": null,
      "outputs": [
        {
          "output_type": "stream",
          "name": "stdout",
          "text": [
            "La muestra es de: 15459\n"
          ]
        }
      ]
    }
  ]
}