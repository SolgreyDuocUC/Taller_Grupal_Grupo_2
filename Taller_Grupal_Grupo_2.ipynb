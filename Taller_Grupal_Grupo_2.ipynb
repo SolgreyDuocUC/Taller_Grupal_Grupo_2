{
  "cells": [
    {
      "cell_type": "markdown",
      "metadata": {
        "id": "dwyz6jkxT-15"
      },
      "source": [
        "# **Matricula de educación superior 2021**"
      ]
    },
    {
      "cell_type": "markdown",
      "metadata": {
        "id": "bDWXW90cUHNn"
      },
      "source": [
        "## Objetivos:"
      ]
    },
    {
      "cell_type": "markdown",
      "metadata": {
        "id": "YjIwdec0U9p8"
      },
      "source": [
        "## TALLER"
      ]
    },
    {
      "cell_type": "markdown",
      "metadata": {
        "id": "iixvThDnKc7q"
      },
      "source": [
        "Base de datos a usar **<a href=\"https://drive.google.com/uc?export=download&id=1Z2mrhxQnGgEfMqKrPyXBBPLnFPg52Woz\n",
        "\">aquí</a>**."
      ]
    },
    {
      "cell_type": "markdown",
      "metadata": {
        "id": "PJHxWHRatuCN"
      },
      "source": [
        "1. Defina la población y muestra."
      ]
    },
    {
      "cell_type": "code",
      "execution_count": null,
      "metadata": {
        "colab": {
          "base_uri": "https://localhost:8080/"
        },
        "id": "qb1voI4OCKRf",
        "outputId": "713bb8de-34d4-4f25-f713-75502277ba57"
      },
      "outputs": [],
      "source": [
        "###Sólo se debe usar desde el colab\n",
        "\n",
        "import pandas as pd\n",
        "df_matricula = pd.read_excel(\"/content/02_MATRICULAS_ED_SUPERIOR_TARAPACA_2021.xlsx\")\n",
        "muestra_matricula = df_matricula.shape[0] #La definimos para usarla en cálculos después\n",
        "print(f'La muestra es de:', muestra_matricula)"
      ]
    },
    {
      "cell_type": "code",
      "execution_count": null,
      "metadata": {},
      "outputs": [
        {
          "name": "stdout",
          "output_type": "stream",
          "text": [
            "La muestra es de: 239523\n"
          ]
        }
      ],
      "source": [
        "###Este se usa para Visual Studio Code, recordar installar en terminal lo siguiente:\n",
        "\n",
        "#pip install pandas\n",
        "#pip install numpy\n",
        "#pip install matplotlib\n",
        "#pip install seaborn\n",
        "#pip install openpyxl\n",
        "\n",
        "\n",
        "import pandas as pd\n",
        "\n",
        "# Ruta al archivo (con r'' para que no dé error con las barras de Windows)\n",
        "ruta = r\"C:\\Users\\GAMER\\Desktop\\Taller_Grupal_Grupo_2\\07_MATRICULAS_ED_SUPERIOR_METROPOLITANA_2021_SANTIAGO.xlsx\"\n",
        "\n",
        "# Leer archivo Excel\n",
        "df_matricula = pd.read_excel(ruta)\n",
        "\n",
        "# Definir tamaño de la muestra\n",
        "muestra_matricula = df_matricula.shape[0]\n",
        "print(f\"La muestra es de: {muestra_matricula}\")\n"
      ]
    }
  ],
  "metadata": {
    "colab": {
      "collapsed_sections": [
        "UuQr4u5RQT4l",
        "ke3TY8E1QkCg",
        "KVCqofHKRVxp"
      ],
      "provenance": []
    },
    "kernelspec": {
      "display_name": "Python 3",
      "name": "python3"
    },
    "language_info": {
      "codemirror_mode": {
        "name": "ipython",
        "version": 3
      },
      "file_extension": ".py",
      "mimetype": "text/x-python",
      "name": "python",
      "nbconvert_exporter": "python",
      "pygments_lexer": "ipython3",
      "version": "3.13.7"
    }
  },
  "nbformat": 4,
  "nbformat_minor": 0
}
