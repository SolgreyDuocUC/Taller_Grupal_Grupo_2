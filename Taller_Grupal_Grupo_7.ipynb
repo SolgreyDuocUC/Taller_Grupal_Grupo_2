{
  "cells": [
    {
      "cell_type": "markdown",
      "metadata": {
        "id": "YjIwdec0U9p8"
      },
      "source": [
        "<br>\n",
        "<br>\n",
        "\n",
        "# **TALLER N° 1 ESTADISTICA DESCRIPTIVA_002D**\n",
        "\n",
        "<br>\n",
        "<br>\n",
        "<br>\n",
        "\n",
        "### **Matricula de educación superior 2021 - Santiago**\n",
        "\n",
        "<br>\n",
        "\n",
        "---\n",
        "\n",
        "**Equipo:**\n",
        "\n",
        "- ARACELY ESCOBAR\n",
        "- BENJAMIN GONZALEZ\n",
        "- SOLGREY MEDINA\n",
        "\n",
        "<br>\n",
        "\n",
        "---\n",
        "\n",
        "<br>\n",
        "<br>\n",
        "<br>\n",
        "<br>\n",
        "<br>\n",
        "<br>\n",
        "<br>"
      ]
    },
    {
      "cell_type": "markdown",
      "metadata": {},
      "source": [
        "# **Parte I – Introducción y descripción general de los datos**\n",
        "\n",
        "---"
      ]
    },
    {
      "cell_type": "markdown",
      "metadata": {
        "id": "iixvThDnKc7q"
      },
      "source": [
        "## **1. Caso de estudio**\n",
        "\n",
        "### Breve descripción de la base de datos\n",
        "\n",
        "**Caso de Estudio**\n",
        "\n",
        "**Registro de Matrícula de Educación Superior en Chile, 2021**\n",
        "\n",
        "El Ministerio de Educación de Chile (MINEDUC), a través del Servicio de Información de Educación Superior (SIES), recopila anualmente información sobre la matrícula de estudiantes de educación superior a nivel nacional. \n",
        "\n",
        "**El objetivo** de este registro es caracterizar la matrícula según variables demográficas, académicas, institucionales, económicas y geográficas. Para este trabajo, se considerará un subconjunto de la base correspondiente a estudiantes matriculados en instituciones con sede en la **Región Metropolitana de Santiago**.\n",
        "\n",
        "---\n",
        "\n",
        "## Variables del Registro\n",
        "\n",
        "| Variable | Descripción |\n",
        "|----------|-------------|\n",
        "| **ID** | Identificador del matriculado |\n",
        "| **GENERO** | Género del estudiante |\n",
        "| **EDAD** | Edad del estudiante |\n",
        "| **RANGO EDAD** | Rango de edad al que pertenece el estudiante |\n",
        "| **AÑO INGRESO** | Año de ingreso a primer año |\n",
        "| **SEMESTRE INGRESO** | Semestre de ingreso a la carrera |\n",
        "| **TIPO DE INSTITUCION** | Clasificación de la institución (Universidades CRUCH, privadas, IP, CFT) |\n",
        "| **NOMBRE DE INSTITUCION** | Nombre completo de la institución |\n",
        "| **ACREDITACION INSTITUCIONAL** | Situación de acreditación al 30 de abril del año en proceso |\n",
        "| **PERIODO DE ACREDITACION** | Fecha de inicio y término de la acreditación institucional |\n",
        "| **AÑOS DE ACREDITACION** | Duración en años de la acreditación de la institución |\n",
        "| **NOMBRE CARRERA** | Nombre completo de la carrera o programa |\n",
        "| **REQUISITO INGRESO** | Requisito específico para ingresar a la carrera |\n",
        "| **VIA DE INGRESO** | Forma de ingreso a la carrera o programa |\n",
        "| **MODALIDAD** | Modo en que se imparte la carrera (presencial, online, híbrida) |\n",
        "| **JORNADA** | Jornada en que se imparte la carrera (diurna, vespertina, mixta) |\n",
        "| **TIPO PLAN CARRERA** | Tipo de plan de estudios de la carrera |\n",
        "| **NIVEL DE ESTUDIO CARRERA** | Clasificación global del nivel de estudios |\n",
        "| **NIVEL CARRERA** | Clasificación específica del nivel de estudios |\n",
        "| **AREA CONOCIMIENTO** | Categorización CINE-UNESCO de la carrera |\n",
        "| **DURACION PLAN DE ESTUDIO (SEM)** | Duración de la carrera en semestres (sin titulación) |\n",
        "| **DURACION PROCESO TITULACION (SEM)** | Duración del proceso de titulación en semestres |\n",
        "| **DURACION TOTAL CARRERA (SEM)** | Duración total de la carrera incluyendo titulación |\n",
        "| **VALOR MATRICULA (PESOS)** | Valor de la matrícula en pesos |\n",
        "| **VALOR ARANCEL (PESOS)** | Arancel anual de la carrera |\n",
        "| **REGION SEDE** | Región donde se imparte la carrera |\n",
        "| **PROVINCIA SEDE** | Provincia de la sede |\n",
        "| **COMUNA SEDE** | Comuna donde se encuentra la sede |"
      ]
    },
    {
      "cell_type": "markdown",
      "metadata": {
        "id": "PJHxWHRatuCN"
      },
      "source": [
        "## **2. Población y muestra**\n",
        "\n",
        "---\n",
        "\n",
        "Origen de los datos y contexto del tema que representan.\n",
        "\n",
        "Base de datos a usar **<a href=\"https://drive.google.com/uc?export=download&id=1Z2mrhxQnGgEfMqKrPyXBBPLnFPg52Woz\n",
        "\">aquí</a>**."
      ]
    },
    {
      "cell_type": "code",
      "execution_count": null,
      "metadata": {
        "colab": {
          "base_uri": "https://localhost:8080/"
        },
        "id": "qb1voI4OCKRf",
        "outputId": "713bb8de-34d4-4f25-f713-75502277ba57"
      },
      "outputs": [],
      "source": [
        "###Sólo se debe usar desde el colab\n",
        "\n",
        "import pandas as pd\n",
        "df_matricula = pd.read_excel(\"\") #Agregar la base de datos aquí\n",
        "muestra_matricula = df_matricula.shape[0] #La definimos para usarla en cálculos después\n",
        "print(f'La muestra es de:', muestra_matricula)"
      ]
    },
    {
      "cell_type": "code",
      "execution_count": 1,
      "metadata": {},
      "outputs": [
        {
          "name": "stdout",
          "output_type": "stream",
          "text": [
            "La muestra es de: 239523\n"
          ]
        }
      ],
      "source": [
        "###Este se usa para Visual Studio Code, recordar installar en terminal lo siguiente:\n",
        "\n",
        "#pip install pandas\n",
        "#pip install numpy\n",
        "#pip install matplotlib\n",
        "#pip install seaborn\n",
        "#pip install openpyxl\n",
        "\n",
        "\n",
        "import pandas as pd\n",
        "\n",
        "# Ruta al archivo (con r'' para que no dé error con las barras de Windows)\n",
        "ruta = r\"C:\\Users\\GAMER\\Desktop\\Taller_Grupal_Grupo_7\\07_MATRICULAS_ED_SUPERIOR_METROPOLITANA_2021_SANTIAGO.xlsx\"\n",
        "\n",
        "df_matricula = pd.read_excel(ruta)\n",
        "\n",
        "# Muestra de la matricula\n",
        "muestra_matricula = df_matricula.shape[0]\n",
        "print(f\"La muestra es de: {muestra_matricula}\")\n"
      ]
    },
    {
      "cell_type": "markdown",
      "metadata": {},
      "source": [
        "La **población** corresponde a los **estudiantes de Educación Superior en Santiago durante el periodo de 2021**\n",
        "\n",
        "La **muestra** es de 239.523 **estudiantes de Educación Superior en Santiago durante el periodo de 2021**"
      ]
    },
    {
      "cell_type": "code",
      "execution_count": 2,
      "metadata": {},
      "outputs": [
        {
          "data": {
            "text/html": [
              "<div>\n",
              "<style scoped>\n",
              "    .dataframe tbody tr th:only-of-type {\n",
              "        vertical-align: middle;\n",
              "    }\n",
              "\n",
              "    .dataframe tbody tr th {\n",
              "        vertical-align: top;\n",
              "    }\n",
              "\n",
              "    .dataframe thead th {\n",
              "        text-align: right;\n",
              "    }\n",
              "</style>\n",
              "<table border=\"1\" class=\"dataframe\">\n",
              "  <thead>\n",
              "    <tr style=\"text-align: right;\">\n",
              "      <th></th>\n",
              "      <th>ID</th>\n",
              "      <th>GENERO</th>\n",
              "      <th>EDAD</th>\n",
              "      <th>RANGO EDAD</th>\n",
              "      <th>AÑO INGRESO</th>\n",
              "      <th>SEMESTRE INGRESO</th>\n",
              "      <th>TIPO DE INSTITUCION</th>\n",
              "      <th>NOMBRE DE INSTITUCION</th>\n",
              "      <th>ACREDITACION INSTITUCIONAL</th>\n",
              "      <th>PERIODO DE ACREDITACION</th>\n",
              "      <th>...</th>\n",
              "      <th>NIVEL CARRERA</th>\n",
              "      <th>AREA CONOCIMIENTO</th>\n",
              "      <th>DURACION PLAN DE ESTUDIO (SEMESTRES)</th>\n",
              "      <th>DURACION PROCESO TITULACION (SEMESTRES)</th>\n",
              "      <th>DURACION TOTAL CARRERA (SEMESTRES)</th>\n",
              "      <th>VALOR MATRICULA (PESOS)</th>\n",
              "      <th>VALOR ARANCEL (PESOS)</th>\n",
              "      <th>REGION SEDE</th>\n",
              "      <th>PROVINCIA SEDE</th>\n",
              "      <th>COMUNA SEDE</th>\n",
              "    </tr>\n",
              "  </thead>\n",
              "  <tbody>\n",
              "    <tr>\n",
              "      <th>0</th>\n",
              "      <td>3</td>\n",
              "      <td>Femenino</td>\n",
              "      <td>31</td>\n",
              "      <td>30 a 34</td>\n",
              "      <td>2020</td>\n",
              "      <td>Primer semestre</td>\n",
              "      <td>Universidades CRUCH</td>\n",
              "      <td>UNIVERSIDAD DE CHILE</td>\n",
              "      <td>ACREDITADA</td>\n",
              "      <td>22/12/2018 AL 22/12/2025</td>\n",
              "      <td>...</td>\n",
              "      <td>Doctorado</td>\n",
              "      <td>Ciencias Sociales</td>\n",
              "      <td>8</td>\n",
              "      <td>0</td>\n",
              "      <td>8</td>\n",
              "      <td>149000</td>\n",
              "      <td>3527000</td>\n",
              "      <td>Metropolitana</td>\n",
              "      <td>Santiago</td>\n",
              "      <td>Santiago</td>\n",
              "    </tr>\n",
              "    <tr>\n",
              "      <th>1</th>\n",
              "      <td>4</td>\n",
              "      <td>Femenino</td>\n",
              "      <td>19</td>\n",
              "      <td>15 a 19</td>\n",
              "      <td>2021</td>\n",
              "      <td>Primer semestre</td>\n",
              "      <td>Institutos Profesionales</td>\n",
              "      <td>IP DUOC UC</td>\n",
              "      <td>ACREDITADA</td>\n",
              "      <td>26/08/2017 AL 26/08/2024</td>\n",
              "      <td>...</td>\n",
              "      <td>Carreras Tecnicas</td>\n",
              "      <td>Administracion y Comercio</td>\n",
              "      <td>5</td>\n",
              "      <td>1</td>\n",
              "      <td>5</td>\n",
              "      <td>194000</td>\n",
              "      <td>2510000</td>\n",
              "      <td>Metropolitana</td>\n",
              "      <td>Santiago</td>\n",
              "      <td>Santiago</td>\n",
              "    </tr>\n",
              "    <tr>\n",
              "      <th>2</th>\n",
              "      <td>9</td>\n",
              "      <td>Femenino</td>\n",
              "      <td>25</td>\n",
              "      <td>25 a 29</td>\n",
              "      <td>2016</td>\n",
              "      <td>Primer semestre</td>\n",
              "      <td>Universidades CRUCH</td>\n",
              "      <td>UNIVERSIDAD ALBERTO HURTADO</td>\n",
              "      <td>ACREDITADA</td>\n",
              "      <td>18/12/2019 AL 18/12/2023</td>\n",
              "      <td>...</td>\n",
              "      <td>Carreras Profesionales</td>\n",
              "      <td>Ciencias Sociales</td>\n",
              "      <td>10</td>\n",
              "      <td>1</td>\n",
              "      <td>10</td>\n",
              "      <td>261000</td>\n",
              "      <td>4378000</td>\n",
              "      <td>Metropolitana</td>\n",
              "      <td>Santiago</td>\n",
              "      <td>Santiago</td>\n",
              "    </tr>\n",
              "    <tr>\n",
              "      <th>3</th>\n",
              "      <td>11</td>\n",
              "      <td>Femenino</td>\n",
              "      <td>24</td>\n",
              "      <td>20 a 24</td>\n",
              "      <td>2017</td>\n",
              "      <td>Primer semestre</td>\n",
              "      <td>Universidades CRUCH</td>\n",
              "      <td>UNIVERSIDAD DIEGO PORTALES</td>\n",
              "      <td>ACREDITADA</td>\n",
              "      <td>24/10/2018 AL 24/10/2023</td>\n",
              "      <td>...</td>\n",
              "      <td>Carreras Profesionales</td>\n",
              "      <td>Salud</td>\n",
              "      <td>10</td>\n",
              "      <td>0</td>\n",
              "      <td>10</td>\n",
              "      <td>469000</td>\n",
              "      <td>4672000</td>\n",
              "      <td>Metropolitana</td>\n",
              "      <td>Santiago</td>\n",
              "      <td>Santiago</td>\n",
              "    </tr>\n",
              "    <tr>\n",
              "      <th>4</th>\n",
              "      <td>24</td>\n",
              "      <td>Femenino</td>\n",
              "      <td>23</td>\n",
              "      <td>20 a 24</td>\n",
              "      <td>2021</td>\n",
              "      <td>Primer semestre</td>\n",
              "      <td>Institutos Profesionales</td>\n",
              "      <td>IP AIEP</td>\n",
              "      <td>ACREDITADA</td>\n",
              "      <td>22/10/2017 AL 22/10/2022</td>\n",
              "      <td>...</td>\n",
              "      <td>Carreras Profesionales</td>\n",
              "      <td>Arte y Arquitectura</td>\n",
              "      <td>8</td>\n",
              "      <td>1</td>\n",
              "      <td>8</td>\n",
              "      <td>190000</td>\n",
              "      <td>2230000</td>\n",
              "      <td>Metropolitana</td>\n",
              "      <td>Santiago</td>\n",
              "      <td>Santiago</td>\n",
              "    </tr>\n",
              "  </tbody>\n",
              "</table>\n",
              "<p>5 rows × 28 columns</p>\n",
              "</div>"
            ],
            "text/plain": [
              "   ID    GENERO  EDAD RANGO EDAD  AÑO INGRESO SEMESTRE INGRESO  \\\n",
              "0   3  Femenino    31   30 a 34          2020  Primer semestre   \n",
              "1   4  Femenino    19   15 a 19          2021  Primer semestre   \n",
              "2   9  Femenino    25   25 a 29          2016  Primer semestre   \n",
              "3  11  Femenino    24   20 a 24          2017  Primer semestre   \n",
              "4  24  Femenino    23   20 a 24          2021  Primer semestre   \n",
              "\n",
              "        TIPO DE INSTITUCION        NOMBRE DE INSTITUCION  \\\n",
              "0       Universidades CRUCH         UNIVERSIDAD DE CHILE   \n",
              "1  Institutos Profesionales                   IP DUOC UC   \n",
              "2       Universidades CRUCH  UNIVERSIDAD ALBERTO HURTADO   \n",
              "3       Universidades CRUCH   UNIVERSIDAD DIEGO PORTALES   \n",
              "4  Institutos Profesionales                      IP AIEP   \n",
              "\n",
              "  ACREDITACION INSTITUCIONAL   PERIODO DE ACREDITACION  ...  \\\n",
              "0                 ACREDITADA  22/12/2018 AL 22/12/2025  ...   \n",
              "1                 ACREDITADA  26/08/2017 AL 26/08/2024  ...   \n",
              "2                 ACREDITADA  18/12/2019 AL 18/12/2023  ...   \n",
              "3                 ACREDITADA  24/10/2018 AL 24/10/2023  ...   \n",
              "4                 ACREDITADA  22/10/2017 AL 22/10/2022  ...   \n",
              "\n",
              "            NIVEL CARRERA          AREA CONOCIMIENTO  \\\n",
              "0               Doctorado          Ciencias Sociales   \n",
              "1       Carreras Tecnicas  Administracion y Comercio   \n",
              "2  Carreras Profesionales          Ciencias Sociales   \n",
              "3  Carreras Profesionales                      Salud   \n",
              "4  Carreras Profesionales        Arte y Arquitectura   \n",
              "\n",
              "  DURACION PLAN DE ESTUDIO (SEMESTRES)  \\\n",
              "0                                    8   \n",
              "1                                    5   \n",
              "2                                   10   \n",
              "3                                   10   \n",
              "4                                    8   \n",
              "\n",
              "  DURACION PROCESO TITULACION (SEMESTRES) DURACION TOTAL CARRERA (SEMESTRES)  \\\n",
              "0                                       0                                  8   \n",
              "1                                       1                                  5   \n",
              "2                                       1                                 10   \n",
              "3                                       0                                 10   \n",
              "4                                       1                                  8   \n",
              "\n",
              "  VALOR MATRICULA (PESOS) VALOR ARANCEL (PESOS)    REGION SEDE PROVINCIA SEDE  \\\n",
              "0                  149000               3527000  Metropolitana       Santiago   \n",
              "1                  194000               2510000  Metropolitana       Santiago   \n",
              "2                  261000               4378000  Metropolitana       Santiago   \n",
              "3                  469000               4672000  Metropolitana       Santiago   \n",
              "4                  190000               2230000  Metropolitana       Santiago   \n",
              "\n",
              "  COMUNA SEDE  \n",
              "0    Santiago  \n",
              "1    Santiago  \n",
              "2    Santiago  \n",
              "3    Santiago  \n",
              "4    Santiago  \n",
              "\n",
              "[5 rows x 28 columns]"
            ]
          },
          "execution_count": 2,
          "metadata": {},
          "output_type": "execute_result"
        }
      ],
      "source": [
        "df_matricula.head(5)"
      ]
    },
    {
      "cell_type": "markdown",
      "metadata": {},
      "source": [
        "## **3. Clasificación de variables**\n",
        "\n",
        "---\n",
        "\n",
        "- Identificación de las variables más relevantes.\n",
        "- Clasificación en:\n",
        "  - **Cualitativas**: nominales / ordinales.\n",
        "  - **Cuantitativas**: discretas / continuas."
      ]
    },
    {
      "cell_type": "markdown",
      "metadata": {},
      "source": [
        "# **Parte II – Análisis univariado**"
      ]
    },
    {
      "cell_type": "markdown",
      "metadata": {},
      "source": [
        "## **4. Tablas de frecuencia**\n",
        "\n",
        "- Tablas de frecuencia absoluta, relativa y acumulada (para variables cualitativas).\n",
        "- Gráficos asociados (barras, circulares)."
      ]
    },
    {
      "cell_type": "markdown",
      "metadata": {},
      "source": [
        "Se definen los contadores"
      ]
    },
    {
      "cell_type": "code",
      "execution_count": 6,
      "metadata": {},
      "outputs": [
        {
          "name": "stdout",
          "output_type": "stream",
          "text": [
            "1. LAS ÁREAS DE CONOCIMIENTO Y SUS INSCRITOS SON:\n"
          ]
        },
        {
          "data": {
            "text/plain": [
              "AREA CONOCIMIENTO\n",
              "Administracion y Comercio    50449\n",
              "Salud                        48938\n",
              "Tecnologia                   35955\n",
              "Ciencias Sociales            34304\n",
              "Educacion                    26148\n",
              "Arte y Arquitectura          15631\n",
              "Derecho                      14423\n",
              "Ciencias Basicas              5529\n",
              "Agropecuaria                  5422\n",
              "Humanidades                   2724\n",
              "Name: count, dtype: int64"
            ]
          },
          "execution_count": 6,
          "metadata": {},
          "output_type": "execute_result"
        }
      ],
      "source": [
        "print('1. LAS ÁREAS DE CONOCIMIENTO Y SUS INSCRITOS SON:')\n",
        "\n",
        "conteo_area = df_matricula['AREA CONOCIMIENTO'].value_counts()\n",
        "\n",
        "conteo_area"
      ]
    },
    {
      "cell_type": "code",
      "execution_count": 15,
      "metadata": {},
      "outputs": [
        {
          "name": "stdout",
          "output_type": "stream",
          "text": [
            "2. ÁREAS DE CONOCIMIENTO CON SU ARANCEL Y MATRÍCULA PROMEDIOS:\n",
            "\n",
            "                           Arancel Promedio  Matrícula Promedio\n",
            "AREA CONOCIMIENTO                                              \n",
            "Agropecuaria                      4446926.0            208083.0\n",
            "Ciencias Basicas                  4199786.0            223859.0\n",
            "Salud                             4193337.0            236112.0\n",
            "Derecho                           4139815.0            223237.0\n",
            "Arte y Arquitectura               3506432.0            216868.0\n",
            "Tecnologia                        3349377.0            226198.0\n",
            "Ciencias Sociales                 2978119.0            186404.0\n",
            "Humanidades                       2772231.0            166771.0\n",
            "Administracion y Comercio         2657241.0            186643.0\n",
            "Educacion                         2010508.0            132494.0\n"
          ]
        }
      ],
      "source": [
        "import numpy as np\n",
        "import matplotlib.pyplot as plt\n",
        "import seaborn as sns\n",
        "\n",
        "print(\"2. ÁREAS DE CONOCIMIENTO CON SU ARANCEL Y MATRÍCULA PROMEDIOS:\\n\")\n",
        "\n",
        "resumen_area = df_matricula.groupby(\"AREA CONOCIMIENTO\").agg({\n",
        "    \"VALOR ARANCEL (PESOS)\": \"mean\",\n",
        "    \"VALOR MATRICULA (PESOS)\": \"mean\"\n",
        "}).round(0).sort_values(by=\"VALOR ARANCEL (PESOS)\", ascending=False)\n",
        "\n",
        "resumen_area = resumen_area.rename(columns={\n",
        "    \"VALOR ARANCEL (PESOS)\": \"Arancel Promedio\",\n",
        "    \"VALOR MATRICULA (PESOS)\": \"Matrícula Promedio\"\n",
        "})\n",
        "\n",
        "print(resumen_area)"
      ]
    },
    {
      "cell_type": "code",
      "execution_count": 8,
      "metadata": {},
      "outputs": [
        {
          "name": "stdout",
          "output_type": "stream",
          "text": [
            "Tabla de Frecuencias - Género:\n",
            " GENERO\n",
            "Femenino     137145\n",
            "Masculino    102378\n",
            "Name: count, dtype: int64\n"
          ]
        }
      ],
      "source": [
        "# Contador de género\n",
        "conteo_genero = df_matricula['GENERO'].value_counts()\n",
        "print(\"Tabla de Frecuencias - Género:\\n\", conteo_genero)"
      ]
    },
    {
      "cell_type": "code",
      "execution_count": 14,
      "metadata": {},
      "outputs": [
        {
          "name": "stdout",
          "output_type": "stream",
          "text": [
            "\n",
            " Tabla de Frecuencias       Tipo de Institución:\n",
            "\n",
            " TIPO DE INSTITUCION\n",
            "Universidades Privadas                   82742\n",
            "Universidades CRUCH                      72439\n",
            "Institutos Profesionales                 64232\n",
            "Centros de Formacion Tecnica             19292\n",
            "Universidades (* Carrera en Convenio)      818\n",
            "Name: count, dtype: int64\n"
          ]
        }
      ],
      "source": [
        "# Contador de tipo de institución\n",
        "\n",
        "contador_institucion = df_matricula['TIPO DE INSTITUCION'].value_counts()\n",
        "print(\"\\n Tabla de Frecuencias       Tipo de Institución:\\n\\n\", contador_institucion)"
      ]
    },
    {
      "cell_type": "code",
      "execution_count": 16,
      "metadata": {},
      "outputs": [
        {
          "name": "stdout",
          "output_type": "stream",
          "text": [
            "3. PROMEDIO DE ARANCEL Y MATRÍCULA POR INSTITUCIÓN Y ÁREA DE CONOCIMIENTO:\n",
            "\n",
            "                                                                 Arancel Promedio  \\\n",
            "TIPO DE INSTITUCION                   AREA CONOCIMIENTO                             \n",
            "Universidades Privadas                Salud                             5097049.0   \n",
            "Universidades CRUCH                   Tecnologia                        5022913.0   \n",
            "                                      Salud                             4947636.0   \n",
            "Universidades Privadas                Agropecuaria                      4675294.0   \n",
            "Universidades CRUCH                   Agropecuaria                      4618879.0   \n",
            "                                      Derecho                           4535600.0   \n",
            "Universidades Privadas                Arte y Arquitectura               4465800.0   \n",
            "Universidades CRUCH                   Administracion y Comercio         4230365.0   \n",
            "                                      Ciencias Basicas                  4210124.0   \n",
            "                                      Arte y Arquitectura               4198563.0   \n",
            "Universidades Privadas                Ciencias Basicas                  4191404.0   \n",
            "                                      Derecho                           3956461.0   \n",
            "                                      Tecnologia                        3768195.0   \n",
            "Universidades CRUCH                   Ciencias Sociales                 3751664.0   \n",
            "Universidades Privadas                Ciencias Sociales                 3511006.0   \n",
            "                                      Administracion y Comercio         3483793.0   \n",
            "Universidades (* Carrera en Convenio) Salud                             3443744.0   \n",
            "                                      Arte y Arquitectura               3213590.0   \n",
            "Universidades CRUCH                   Humanidades                       3194878.0   \n",
            "Universidades (* Carrera en Convenio) Agropecuaria                      2916945.0   \n",
            "Universidades CRUCH                   Educacion                         2909815.0   \n",
            "Universidades (* Carrera en Convenio) Ciencias Sociales                 2852484.0   \n",
            "Institutos Profesionales              Arte y Arquitectura               2571986.0   \n",
            "Universidades (* Carrera en Convenio) Administracion y Comercio         2340531.0   \n",
            "                                      Derecho                           2275155.0   \n",
            "Universidades Privadas                Educacion                         2181404.0   \n",
            "Universidades (* Carrera en Convenio) Educacion                         2085657.0   \n",
            "Centros de Formacion Tecnica          Arte y Arquitectura               1991347.0   \n",
            "Institutos Profesionales              Salud                             1991187.0   \n",
            "Universidades Privadas                Humanidades                       1973394.0   \n",
            "Institutos Profesionales              Tecnologia                        1844027.0   \n",
            "Universidades (* Carrera en Convenio) Humanidades                       1828333.0   \n",
            "Centros de Formacion Tecnica          Agropecuaria                      1801243.0   \n",
            "Institutos Profesionales              Humanidades                       1795272.0   \n",
            "                                      Administracion y Comercio         1758096.0   \n",
            "Centros de Formacion Tecnica          Salud                             1722039.0   \n",
            "                                      Tecnologia                        1717558.0   \n",
            "Institutos Profesionales              Derecho                           1652932.0   \n",
            "Centros de Formacion Tecnica          Administracion y Comercio         1632971.0   \n",
            "Institutos Profesionales              Ciencias Sociales                 1501875.0   \n",
            "Centros de Formacion Tecnica          Ciencias Basicas                  1460000.0   \n",
            "                                      Humanidades                       1415000.0   \n",
            "Institutos Profesionales              Educacion                         1346571.0   \n",
            "Centros de Formacion Tecnica          Derecho                           1295214.0   \n",
            "                                      Educacion                         1276887.0   \n",
            "                                      Ciencias Sociales                 1089644.0   \n",
            "\n",
            "                                                                 Matrícula Promedio  \n",
            "TIPO DE INSTITUCION                   AREA CONOCIMIENTO                              \n",
            "Universidades Privadas                Salud                                318953.0  \n",
            "Universidades CRUCH                   Tecnologia                           233207.0  \n",
            "                                      Salud                                213824.0  \n",
            "Universidades Privadas                Agropecuaria                         276491.0  \n",
            "Universidades CRUCH                   Agropecuaria                         146590.0  \n",
            "                                      Derecho                              198747.0  \n",
            "Universidades Privadas                Arte y Arquitectura                  330932.0  \n",
            "Universidades CRUCH                   Administracion y Comercio            209615.0  \n",
            "                                      Ciencias Basicas                     139763.0  \n",
            "                                      Arte y Arquitectura                  226804.0  \n",
            "Universidades Privadas                Ciencias Basicas                     369652.0  \n",
            "                                      Derecho                              266495.0  \n",
            "                                      Tecnologia                           316026.0  \n",
            "Universidades CRUCH                   Ciencias Sociales                    222566.0  \n",
            "Universidades Privadas                Ciencias Sociales                    228050.0  \n",
            "                                      Administracion y Comercio            292733.0  \n",
            "Universidades (* Carrera en Convenio) Salud                                164800.0  \n",
            "                                      Arte y Arquitectura                  163156.0  \n",
            "Universidades CRUCH                   Humanidades                          178742.0  \n",
            "Universidades (* Carrera en Convenio) Agropecuaria                         164800.0  \n",
            "Universidades CRUCH                   Educacion                            174990.0  \n",
            "Universidades (* Carrera en Convenio) Ciencias Sociales                    162647.0  \n",
            "Institutos Profesionales              Arte y Arquitectura                  178894.0  \n",
            "Universidades (* Carrera en Convenio) Administracion y Comercio            164411.0  \n",
            "                                      Derecho                              152230.0  \n",
            "Universidades Privadas                Educacion                            152152.0  \n",
            "Universidades (* Carrera en Convenio) Educacion                            161600.0  \n",
            "Centros de Formacion Tecnica          Arte y Arquitectura                   31083.0  \n",
            "Institutos Profesionales              Salud                                140917.0  \n",
            "Universidades Privadas                Humanidades                          170439.0  \n",
            "Institutos Profesionales              Tecnologia                           160563.0  \n",
            "Universidades (* Carrera en Convenio) Humanidades                          150000.0  \n",
            "Centros de Formacion Tecnica          Agropecuaria                          64000.0  \n",
            "Institutos Profesionales              Humanidades                          160000.0  \n",
            "                                      Administracion y Comercio            147461.0  \n",
            "Centros de Formacion Tecnica          Salud                                 73608.0  \n",
            "                                      Tecnologia                            99831.0  \n",
            "Institutos Profesionales              Derecho                              183291.0  \n",
            "Centros de Formacion Tecnica          Administracion y Comercio             77047.0  \n",
            "Institutos Profesionales              Ciencias Sociales                    114702.0  \n",
            "Centros de Formacion Tecnica          Ciencias Basicas                      60000.0  \n",
            "                                      Humanidades                               0.0  \n",
            "Institutos Profesionales              Educacion                            108244.0  \n",
            "Centros de Formacion Tecnica          Derecho                               62536.0  \n",
            "                                      Educacion                             31615.0  \n",
            "                                      Ciencias Sociales                     17999.0  \n"
          ]
        }
      ],
      "source": [
        "print(\"3. PROMEDIO DE ARANCEL Y MATRÍCULA POR INSTITUCIÓN Y ÁREA DE CONOCIMIENTO:\\n\")\n",
        "\n",
        "resumen_inst_area = df_matricula.groupby([\"TIPO DE INSTITUCION\", \"AREA CONOCIMIENTO\"]).agg({\n",
        "    \"VALOR ARANCEL (PESOS)\": \"mean\",\n",
        "    \"VALOR MATRICULA (PESOS)\": \"mean\"\n",
        "}).round(0).sort_values(by=\"VALOR ARANCEL (PESOS)\", ascending=False)\n",
        "\n",
        "resumen_inst_area = resumen_inst_area.rename(columns={\n",
        "    \"VALOR ARANCEL (PESOS)\": \"Arancel Promedio\",\n",
        "    \"VALOR MATRICULA (PESOS)\": \"Matrícula Promedio\"\n",
        "})\n",
        "\n",
        "print(resumen_inst_area)\n"
      ]
    },
    {
      "cell_type": "code",
      "execution_count": 17,
      "metadata": {},
      "outputs": [
        {
          "data": {
            "image/png": "[encoded data removed]",
            "text/plain": [
              "<Figure size 1200x600 with 1 Axes>"
            ]
          },
          "metadata": {},
          "output_type": "display_data"
        }
      ],
      "source": [
        "# Gráfico comparativo\n",
        "resumen_area.plot(kind=\"bar\", figsize=(12,6))\n",
        "plt.title(\"Promedio de Arancel y Matrícula por Área de Conocimiento\")\n",
        "plt.ylabel(\"Pesos\")\n",
        "plt.xticks(rotation=75)\n",
        "plt.show()"
      ]
    },
    {
      "cell_type": "markdown",
      "metadata": {},
      "source": [
        "## **5. Medidas de posición**\n",
        "- Media, mediana y moda (para variables cuantitativas).\n",
        "- Percentiles y cuartiles (Q1, Q2, Q3, P90, etc.).\n",
        "- Breve comentario interpretando qué significan estos valores en el contexto."
      ]
    },
    {
      "cell_type": "markdown",
      "metadata": {},
      "source": [
        "## **6. Representaciones gráficas**\n",
        "- Histogramas (para visualizar distribución de variables numéricas).\n",
        "- Diagramas de caja (boxplots) para mostrar cuartiles y detectar valores atípicos."
      ]
    },
    {
      "cell_type": "markdown",
      "metadata": {},
      "source": [
        "# **Parte III – Análisis de dispersión y conclusiones**\n",
        "\n",
        "## **7. Medidas de dispersión**\n",
        "- Cálculo de:\n",
        "  - Rango.\n",
        "  - Varianza.\n",
        "  - Desviación estándar.\n",
        "  - (Opcional) Coeficiente de variación.\n",
        "- Interpretación: ¿qué tan dispersos están los datos?\n",
        "\n",
        "## **8. Síntesis gráfica comparativa**\n",
        "- Seleccionar 2–3 gráficos clave que resuman hallazgos.\n",
        "- Ejemplo: comparación de una variable numérica segmentada por categorías.\n",
        "\n",
        "## **9. Conclusiones descriptivas**\n",
        "- Resumen de hallazgos principales:\n",
        "  - Variables con mayor concentración.\n",
        "  - Variables con más variabilidad.\n",
        "  - Patrones o sesgos encontrados.\n",
        "- Observaciones finales y relevancia de los resultados."
      ]
    }
  ],
  "metadata": {
    "colab": {
      "collapsed_sections": [
        "UuQr4u5RQT4l",
        "ke3TY8E1QkCg",
        "KVCqofHKRVxp"
      ],
      "provenance": []
    },
    "kernelspec": {
      "display_name": "Python 3",
      "name": "python3"
    },
    "language_info": {
      "codemirror_mode": {
        "name": "ipython",
        "version": 3
      },
      "file_extension": ".py",
      "mimetype": "text/x-python",
      "name": "python",
      "nbconvert_exporter": "python",
      "pygments_lexer": "ipython3",
      "version": "3.13.7"
    }
  },
  "nbformat": 4,
  "nbformat_minor": 0
}
